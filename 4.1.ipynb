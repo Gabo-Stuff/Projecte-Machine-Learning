{
 "cells": [
  {
   "cell_type": "markdown",
   "id": "9dd891f1-a456-4ccd-b65a-e271b36ead32",
   "metadata": {},
   "source": [
    "<h3><center>Ejercicio 1:   Consumiendo la API de Coingecko<br>para consultar los precios actuales<br> de Ethereum y Bitcoin</center></h3>"
   ]
  },
  {
   "cell_type": "code",
   "execution_count": 91,
   "id": "0b1a01e2-c853-4087-8d5f-2af17a08372f",
   "metadata": {},
   "outputs": [],
   "source": [
    "import requests"
   ]
  },
  {
   "cell_type": "code",
   "execution_count": 93,
   "id": "7fa4505e-8c13-4914-8afa-2fcc001b3f8a",
   "metadata": {},
   "outputs": [],
   "source": [
    "# URL de la API\n",
    "url = \"https://api.coingecko.com/api/v3/simple/price\"\n",
    "params = {\n",
    "    'ids': 'bitcoin,ethereum',  # Monedas\n",
    "    'vs_currencies': 'eur'      # En euros\n",
    "}"
   ]
  },
  {
   "cell_type": "code",
   "execution_count": 95,
   "id": "a0ac768f-1329-414a-a31a-73aa9e0fc213",
   "metadata": {},
   "outputs": [],
   "source": [
    "# Hacer la petición\n",
    "response_1 = requests.get(url, params=params)"
   ]
  },
  {
   "cell_type": "code",
   "execution_count": 107,
   "id": "ba660b95-1e29-4892-91c0-209d0d75f0c0",
   "metadata": {},
   "outputs": [
    {
     "name": "stdout",
     "output_type": "stream",
     "text": [
      "Precios actuales:\n",
      "Bitcoin: \u001b[1m62537\u001b[0m EUR\n",
      "Ethereum: \u001b[1m2475.66\u001b[0m EUR\n"
     ]
    }
   ],
   "source": [
    "# Comprobar si la resposta es exitosa\n",
    "if response_1.status_code == 200:\n",
    "    data = response_1.json()\n",
    "    print(\"Precios actuales:\")\n",
    "    print(f\"Bitcoin: \\033[1m{data['bitcoin']['eur']}\\033[0m EUR\")\n",
    "    print(f\"Ethereum: \\033[1m{data['ethereum']['eur']}\\033[0m EUR\")\n",
    "else:\n",
    "    print(\"Error en la petición\", response_1.status_code)"
   ]
  },
  {
   "cell_type": "markdown",
   "id": "cdaae0ad-c537-498a-8c57-a0b12ceb527d",
   "metadata": {},
   "source": [
    "<h3><center>Ejercicio 2: Web Scraping de la página 'Quotes to Scrape'<br> para extraer todas les citas y seus autores </center></h3>"
   ]
  },
  {
   "cell_type": "code",
   "execution_count": 99,
   "id": "7427ed7c-4d23-437e-b6cf-8b5d11f6ff22",
   "metadata": {},
   "outputs": [],
   "source": [
    "import requests\n",
    "from bs4 import BeautifulSoup"
   ]
  },
  {
   "cell_type": "code",
   "execution_count": 101,
   "id": "0f7384f5-2179-41a8-b01d-82c62ea32ecd",
   "metadata": {},
   "outputs": [],
   "source": [
    "# URL de la página\n",
    "url = \"http://quotes.toscrape.com/\""
   ]
  },
  {
   "cell_type": "code",
   "execution_count": 103,
   "id": "26f21c5e-c067-4420-8092-4e31862bcfb6",
   "metadata": {},
   "outputs": [],
   "source": [
    "# Hacer la petición a la página web\n",
    "response_2 = requests.get(url)"
   ]
  },
  {
   "cell_type": "code",
   "execution_count": 105,
   "id": "31ce4943-8b10-4087-86be-ec9e2312ca89",
   "metadata": {},
   "outputs": [
    {
     "name": "stdout",
     "output_type": "stream",
     "text": [
      "Número de citas:  \u001b[1m10\u001b[0m\n",
      "\n",
      "Cita: “The world as we have created it is a process of our thinking. It cannot be changed without changing our thinking.”\n",
      "Autor: \u001b[1mAlbert Einstein\u001b[0m\n",
      "--------------------------------------------------\n",
      "\n",
      "Cita: “It is our choices, Harry, that show what we truly are, far more than our abilities.”\n",
      "Autor: \u001b[1mJ.K. Rowling\u001b[0m\n",
      "--------------------------------------------------\n",
      "\n",
      "Cita: “There are only two ways to live your life. One is as though nothing is a miracle. The other is as though everything is a miracle.”\n",
      "Autor: \u001b[1mAlbert Einstein\u001b[0m\n",
      "--------------------------------------------------\n",
      "\n",
      "Cita: “The person, be it gentleman or lady, who has not pleasure in a good novel, must be intolerably stupid.”\n",
      "Autor: \u001b[1mJane Austen\u001b[0m\n",
      "--------------------------------------------------\n",
      "\n",
      "Cita: “Imperfection is beauty, madness is genius and it's better to be absolutely ridiculous than absolutely boring.”\n",
      "Autor: \u001b[1mMarilyn Monroe\u001b[0m\n",
      "--------------------------------------------------\n",
      "\n",
      "Cita: “Try not to become a man of success. Rather become a man of value.”\n",
      "Autor: \u001b[1mAlbert Einstein\u001b[0m\n",
      "--------------------------------------------------\n",
      "\n",
      "Cita: “It is better to be hated for what you are than to be loved for what you are not.”\n",
      "Autor: \u001b[1mAndré Gide\u001b[0m\n",
      "--------------------------------------------------\n",
      "\n",
      "Cita: “I have not failed. I've just found 10,000 ways that won't work.”\n",
      "Autor: \u001b[1mThomas A. Edison\u001b[0m\n",
      "--------------------------------------------------\n",
      "\n",
      "Cita: “A woman is like a tea bag; you never know how strong it is until it's in hot water.”\n",
      "Autor: \u001b[1mEleanor Roosevelt\u001b[0m\n",
      "--------------------------------------------------\n",
      "\n",
      "Cita: “A day without sunshine is like, you know, night.”\n",
      "Autor: \u001b[1mSteve Martin\u001b[0m\n",
      "--------------------------------------------------\n",
      "\n"
     ]
    }
   ],
   "source": [
    "# Comprobar si la resposta fue bien\n",
    "if response_2.status_code == 200:\n",
    "    # Procesar el contenido HTML con BeautifulSoup\n",
    "    soup = BeautifulSoup(response_2.text, 'html.parser')\n",
    "    \n",
    "    # Extraer todas les citas de la página\n",
    "    quotes = soup.find_all('span', class_='text')\n",
    "    authors = soup.find_all('small', class_='author')\n",
    "\n",
    "    print(\"Número de citas: \", f\"\\033[1m{len(quotes)}\\033[0m\")\n",
    "    print()\n",
    "    for i in range(len(quotes)):\n",
    "        print(f\"Cita: {quotes[i].text}\")\n",
    "        print(f\"Autor: \\033[1m{authors[i].text}\\033[0m\")\n",
    "        print('-' * 50)\n",
    "        print()\n",
    "else:\n",
    "    print(\"Error en accedir a la pàgina\", response_2.status_code)\n"
   ]
  },
  {
   "cell_type": "code",
   "execution_count": null,
   "id": "3eb4758a-ea38-4fa5-992f-c1946fd6debf",
   "metadata": {},
   "outputs": [],
   "source": []
  }
 ],
 "metadata": {
  "kernelspec": {
   "display_name": "Python 3 (ipykernel)",
   "language": "python",
   "name": "python3"
  },
  "language_info": {
   "codemirror_mode": {
    "name": "ipython",
    "version": 3
   },
   "file_extension": ".py",
   "mimetype": "text/x-python",
   "name": "python",
   "nbconvert_exporter": "python",
   "pygments_lexer": "ipython3",
   "version": "3.12.3"
  }
 },
 "nbformat": 4,
 "nbformat_minor": 5
}
