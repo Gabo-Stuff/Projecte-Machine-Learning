{
 "cells": [
  {
   "cell_type": "code",
   "execution_count": 68,
   "id": "b2942938-5356-480c-90a7-41e7927d63e7",
   "metadata": {},
   "outputs": [
    {
     "name": "stdout",
     "output_type": "stream",
     "text": [
      "{'numpy': True, 'pandas': True, 'scikit-learn': True, 'Matplotlib': True, 'Seaborn': True, 'Streamlit': True, 'burguer': False}\n"
     ]
    }
   ],
   "source": [
    "import subprocess\n",
    "\n",
    "#Definimos una función para revisar si todas las\n",
    "#librerias para el curso fueron instaladas en el entorno\n",
    "def check_package_installed(package_name):\n",
    "    try:\n",
    "        #con el módulo subprocess guardamos en una variable el output de las ejecuciones de linea de comandos \n",
    "        subprocess.check_output([\"pip\", \"show\", package_name])\n",
    "        return True\n",
    "    except subprocess.CalledProcessError:\n",
    "        return False\n",
    "\n",
    "#Llamámos (es lento y poco funcional)\n",
    "packages = [\"numpy\", \"pandas\", \"scikit-learn\", \"Matplotlib\", \"Seaborn\", \"Streamlit\", \"burguer\"]\n",
    "installed_packages = {pkg: check_package_installed(pkg) for pkg in packages}\n",
    "\n",
    "print(installed_packages)\n"
   ]
  },
  {
   "cell_type": "code",
   "execution_count": 82,
   "id": "0b8349d8-a3dc-49dd-b122-671e44c3ab59",
   "metadata": {},
   "outputs": [
    {
     "name": "stdout",
     "output_type": "stream",
     "text": [
      "\n",
      "\u001b[1mNumpy:        \u001b[92mTrue\u001b[0m\n",
      "\u001b[1mPandas:       \u001b[92mTrue\u001b[0m\n",
      "\u001b[1mScikit-learn: \u001b[92mTrue\u001b[0m\n",
      "\u001b[1mMatplotlib:   \u001b[92mTrue\u001b[0m\n",
      "\u001b[1mSeaborn:      \u001b[92mTrue\u001b[0m\n",
      "\u001b[1mStreamlit:    \u001b[92mTrue\u001b[0m\n",
      "\u001b[1mBurguer:      \u001b[91mFalse\u001b[0m\n",
      "\n"
     ]
    }
   ],
   "source": [
    "#Mostramos las librerias alineadas y en colores\n",
    "COLOR_GREEN = \"\\033[92m\"\n",
    "COLOR_RED = \"\\033[91m\"\n",
    "COLOR_BOLD = \"\\033[1m\"\n",
    "COLOR_RESET = \"\\033[0m\"\n",
    "\n",
    "print()\n",
    "max_length = len(max(packages, key=len))\n",
    "\n",
    "for pkg, installed in installed_packages.items():\n",
    "    status_str = f\"{COLOR_GREEN}True{COLOR_RESET}\" if installed else f\"{COLOR_RED}False{COLOR_RESET}\"\n",
    "    spaces = \" \" * (max_length - len(pkg))  # Espacios calculados una vez\n",
    "    print(f\"{COLOR_BOLD}{pkg.capitalize()}:{spaces} {status_str}\")\n",
    "print()\n"
   ]
  },
  {
   "cell_type": "markdown",
   "id": "a61c112d-54a9-40d8-85c2-595b8b7957ed",
   "metadata": {},
   "source": [
    "<h1 style=\"text-align: center; font-family: 'Courier New'; color: green;\">Cálculos sencillos(en imagen)<h1>"
   ]
  },
  {
   "attachments": {},
   "cell_type": "markdown",
   "id": "1708d970-ff87-428c-b570-8839ab2b00e1",
   "metadata": {},
   "source": [
    "<div style=\"text-align: center;\">\n",
    "    <img src=\"imagenes/codigo.png\"style=\"width: 50%;\">\n",
    "</div>\n",
    ">\r\n"
   ]
  },
  {
   "attachments": {},
   "cell_type": "markdown",
   "id": "8aa0df68-ea00-4bcd-85df-c9e06729e8fb",
   "metadata": {},
   "source": [
    "<div style=\"text-align: center;\">\n",
    "    <img src=\"imagenes/grafico.png\"style=\"width: 50%;\">\n",
    "</div>\n"
   ]
  }
 ],
 "metadata": {
  "kernelspec": {
   "display_name": "Python 3 (ipykernel)",
   "language": "python",
   "name": "python3"
  },
  "language_info": {
   "codemirror_mode": {
    "name": "ipython",
    "version": 3
   },
   "file_extension": ".py",
   "mimetype": "text/x-python",
   "name": "python",
   "nbconvert_exporter": "python",
   "pygments_lexer": "ipython3",
   "version": "3.12.3"
  }
 },
 "nbformat": 4,
 "nbformat_minor": 5
}
