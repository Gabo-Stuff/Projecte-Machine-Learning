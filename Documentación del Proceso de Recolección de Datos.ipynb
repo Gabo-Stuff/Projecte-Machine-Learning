{
 "cells": [
  {
   "cell_type": "markdown",
   "id": "728e4e49-fb89-487b-b781-d761865481cd",
   "metadata": {},
   "source": [
    "# Documentación del Proceso de Recolección de Datos\r\n",
    "\r\n",
    "**1. Fuentes**  \r\n",
    "**¿De dónde vienen los datos?**  \r\n",
    "Base de datos de marketing directo del banco.  \r\n",
    "\r\n",
    "**¿Qué información tenemos?**  \r\n",
    "La base de datos guarda registros de campañas de marketing por teléfono. Aquí hay datos sobre los clientes, su situación financiera y cómo respondieron a las ofertas del banco. Todo esto se recoge a través de llamadas que hacen los agentes del banco, donde anotan si el cliente está interesado en abrir un depósito a plazo fijo.\r\n",
    "\r\n",
    "**2. Métodos de recolección de datos**  \r\n",
    "**¿Cómo se recolectan los datos?**  \r\n",
    "- **Sistema CRM:** El banco utiliza un sistema para gestionar las relaciones con los clientes, donde se registran todas las interacciones.\r\n",
    "- **Exportación de datos:** Cada cierto tiempo, los datos se exportan en formato CSV para analizarlos. Esto lo maneja el equipo de IT, que se asegura de que la información sea precisa.\r\n",
    "\r\n",
    "**¿Con qué frecuencia se recolectan datos?**  \r\n",
    "Semanalmente: Los datos se actualizan cada semana para tener siempre la informació\n",
    "n más reciente.\r\n",
    "s reciente.\r\n",
    "</div>\r\n",
    "s reciente.\r\n",
    "</div>\r\n"
   ]
  },
  {
   "cell_type": "code",
   "execution_count": 8,
   "id": "0dfb32a2-692b-48bd-a047-35b513d7f155",
   "metadata": {},
   "outputs": [
    {
     "name": "stdout",
     "output_type": "stream",
     "text": [
      "<class 'pandas.core.frame.DataFrame'>\n",
      "RangeIndex: 11162 entries, 0 to 11161\n",
      "Data columns (total 17 columns):\n",
      " #   Column     Non-Null Count  Dtype  \n",
      "---  ------     --------------  -----  \n",
      " 0   age        11152 non-null  float64\n",
      " 1   job        11162 non-null  object \n",
      " 2   marital    11157 non-null  object \n",
      " 3   education  11155 non-null  object \n",
      " 4   default    11162 non-null  object \n",
      " 5   balance    11162 non-null  int64  \n",
      " 6   housing    11162 non-null  object \n",
      " 7   loan       11162 non-null  object \n",
      " 8   contact    11162 non-null  object \n",
      " 9   day        11162 non-null  int64  \n",
      " 10  month      11162 non-null  object \n",
      " 11  duration   11162 non-null  int64  \n",
      " 12  campaign   11162 non-null  int64  \n",
      " 13  pdays      11162 non-null  int64  \n",
      " 14  previous   11162 non-null  int64  \n",
      " 15  poutcome   11162 non-null  object \n",
      " 16  deposit    11162 non-null  object \n",
      "dtypes: float64(1), int64(6), object(10)\n",
      "memory usage: 1.4+ MB\n",
      "None\n"
     ]
    }
   ],
   "source": [
    "import pandas as pd\n",
    "\n",
    "# URL del archivo CSV en formato raw\n",
    "csv_url = \"https://raw.githubusercontent.com/ITACADEMYprojectes/projecteML/main/bank_dataset.CSV\"\n",
    "df = pd.read_csv(csv_url)\n",
    "print(df.info())"
   ]
  },
  {
   "cell_type": "markdown",
   "id": "3be314b8-fea1-4f44-8cc8-dd7abbf9dc74",
   "metadata": {},
   "source": [
    "### 3. Formato y Estructura de los Datos\r\n",
    "**¿Qué tipo de datos tenemos?**<br>\r\n",
    "<ul>\r\n",
    "    <li><strong>Numéricos:</strong> balance, duration, campaign, pdays, previous</li>\r\n",
    "    <li><strong>Categóricos:</strong> age, job, marital, education, default, housing, loan, contact, month, poutcome, deposit</li>\r\n",
    "</ul>\r\n",
    "**¿Cómo están almacenados?**<br>\r\n",
    "Los datos están en un archivo CSV, donde cada fila es una interacción con un cliente y cada columna es una característica de ese cliente.\r\n",
    "\r\n",
    "### 4. Limitaciones de los Datos\r\n",
    "**Actualización:** Puede que la información en el sistema no esté al día. Por ejemplo, si un cliente cambia su situación financiera, puede que no se refleje de inmediato.<br>\r\n",
    "**Sesgo:** La muestra de clientes puede no representar a todos los clientes del banco, lo que podría afectar lo que el modelo predice.\r\n",
    "\r\n",
    "### 5. Consideraciones sobre Datos Sensibles\r\n",
    "**¿Qué datos son sensibles?**<br>\r\n",
    "<ul>\r\n",
    "    <li><strong>Datos Personales:</strong> age, job, marital, education</li>\r\n",
    "    <li><strong>Datos Financieros:</strong> balance</li>\r\n",
    "    <li><strong>Datos Comportamentales:</strong> duration, campaign, pdays, previous</li>\r\n",
    "</ul>\r\n",
    "\r\n",
    "**¿Qué hacemos para proteger esos datos?**<br>\r\n",
    "<ul>\r\n",
    "    <li><strong>Anonimización:</strong> Implementaremos técnicas de anonimización, así como seudonimización mediante el uso de identificadores únicos y encriptación (e.g. hash). Esto asegurará que los datos, como ‘job’ y ‘marital’, no puedan ser relacionados con individuos específicos, a la vez que se preserva la utilidad de los datos para el análisis.</li>\r\n",
    "    <li><strong>Acceso Controlado:</strong> Solo el personal autorizado podrá acceder a estos datos.</li>\r\n",
    "    <li><strong>Cumplimiento de Regulaciones:</strong> Seguiremos la GDPR y obtendremos el consentimiento de los clientes para usar sus datos.</li>\r\n",
    "</ul>\r\n",
    "\r\n",
    "### 6. Responsabilidades Éticas y Sociales\r\n",
    "**Monitoreo del Modelo:** Revisaremos el modelo regularmente para asegurarnos de que no haya sesgos que afecten a grupos específicos.<br>\r\n",
    "**Transparencia:** Seremos claros con los clientes sobre cómo usamos sus datos y pediremos su consentimiento cuando sea necesario.<br>\r\n",
    "**Equidad:** Buscaremos que todos los clientes tengan las mismas oportunidades en las ofertas del banco.\r\n"
   ]
  }
 ],
 "metadata": {
  "kernelspec": {
   "display_name": "Python 3 (ipykernel)",
   "language": "python",
   "name": "python3"
  },
  "language_info": {
   "codemirror_mode": {
    "name": "ipython",
    "version": 3
   },
   "file_extension": ".py",
   "mimetype": "text/x-python",
   "name": "python",
   "nbconvert_exporter": "python",
   "pygments_lexer": "ipython3",
   "version": "3.12.3"
  }
 },
 "nbformat": 4,
 "nbformat_minor": 5
}
