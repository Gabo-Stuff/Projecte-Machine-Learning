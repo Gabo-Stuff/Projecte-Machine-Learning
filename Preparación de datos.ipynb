{
 "cells": [
  {
   "cell_type": "code",
   "execution_count": 1,
   "id": "f4eca9ea-ca06-43e0-ae0b-3132cc4d0cd6",
   "metadata": {},
   "outputs": [],
   "source": [
    "import pandas as pd\n",
    "from sklearn.preprocessing import StandardScaler\n",
    "from sklearn.model_selection import train_test_split"
   ]
  },
  {
   "cell_type": "markdown",
   "id": "99b33db0-44fd-4403-9f57-09f851c26972",
   "metadata": {},
   "source": [
    "<h4>1. Carga del conjunto de datos</h4>"
   ]
  },
  {
   "cell_type": "code",
   "execution_count": 56,
   "id": "ab91f3e4-74c7-4856-b9c1-22ea51634d9d",
   "metadata": {},
   "outputs": [],
   "source": [
    "df = pd.read_csv('datasets/transformed_bankdataset.csv')"
   ]
  },
  {
   "cell_type": "markdown",
   "id": "9c78020d-978a-4241-bac6-1b2624662da7",
   "metadata": {},
   "source": [
    "<h4>2. Exploración inicial del conjunto de datos</h4>"
   ]
  },
  {
   "cell_type": "code",
   "execution_count": 59,
   "id": "ff8daf81-1c2e-4801-9eb6-bfac73f5ce58",
   "metadata": {},
   "outputs": [
    {
     "name": "stdout",
     "output_type": "stream",
     "text": [
      "    age         job  marital  education default  balance housing loan  \\\n",
      "0  59.0      admin.  married  secondary      no     2343     yes   no   \n",
      "1  56.0      admin.  married  secondary      no       45      no   no   \n",
      "2  41.0  technician  married  secondary      no     1270     yes   no   \n",
      "3  55.0    services  married  secondary      no     2476     yes   no   \n",
      "4  54.0      admin.  married   tertiary      no      184      no   no   \n",
      "\n",
      "   contact  day  ... campaign  pdays  previous  poutcome  deposit balance_log  \\\n",
      "0  unknown    5  ...        1     -1         0   unknown      yes    9.126089   \n",
      "1  unknown    5  ...        1     -1         0   unknown      yes    8.838407   \n",
      "2  unknown    5  ...        1     -1         0   unknown      yes    9.001962   \n",
      "3  unknown    5  ...        1     -1         0   unknown      yes    9.140454   \n",
      "4  unknown    5  ...        2     -1         0   unknown      yes    8.858369   \n",
      "\n",
      "  duration_log  campaign_log  pdays_log  previous_log  \n",
      "0     6.950815      1.098612        0.0      0.693147  \n",
      "1     7.292337      1.098612        0.0      0.693147  \n",
      "2     7.237778      1.098612        0.0      0.693147  \n",
      "3     6.364751      1.098612        0.0      0.693147  \n",
      "4     6.514713      1.386294        0.0      0.693147  \n",
      "\n",
      "[5 rows x 22 columns]\n",
      "<class 'pandas.core.frame.DataFrame'>\n",
      "RangeIndex: 11162 entries, 0 to 11161\n",
      "Data columns (total 22 columns):\n",
      " #   Column        Non-Null Count  Dtype  \n",
      "---  ------        --------------  -----  \n",
      " 0   age           11162 non-null  float64\n",
      " 1   job           11162 non-null  object \n",
      " 2   marital       11162 non-null  object \n",
      " 3   education     11162 non-null  object \n",
      " 4   default       11162 non-null  object \n",
      " 5   balance       11162 non-null  int64  \n",
      " 6   housing       11162 non-null  object \n",
      " 7   loan          11162 non-null  object \n",
      " 8   contact       11162 non-null  object \n",
      " 9   day           11162 non-null  int64  \n",
      " 10  month         11162 non-null  object \n",
      " 11  duration      11162 non-null  int64  \n",
      " 12  campaign      11162 non-null  int64  \n",
      " 13  pdays         11162 non-null  int64  \n",
      " 14  previous      11162 non-null  int64  \n",
      " 15  poutcome      11162 non-null  object \n",
      " 16  deposit       11162 non-null  object \n",
      " 17  balance_log   11162 non-null  float64\n",
      " 18  duration_log  11162 non-null  float64\n",
      " 19  campaign_log  11162 non-null  float64\n",
      " 20  pdays_log     11162 non-null  float64\n",
      " 21  previous_log  11162 non-null  float64\n",
      "dtypes: float64(6), int64(6), object(10)\n",
      "memory usage: 1.9+ MB\n",
      "None\n"
     ]
    }
   ],
   "source": [
    "# Ver las primeras filas del dataframe\n",
    "print(df.head())\n",
    "\n",
    "# Información general sobre el dataframe\n",
    "print(df.info())"
   ]
  },
  {
   "cell_type": "markdown",
   "id": "85827d3d-47a3-4f2b-a834-ec0bb64d1539",
   "metadata": {},
   "source": [
    "<h4>3. División del conjunto de datos</h4>"
   ]
  },
  {
   "cell_type": "code",
   "execution_count": 62,
   "id": "dcc15540-9b6f-41f2-aa5e-454199e56247",
   "metadata": {},
   "outputs": [],
   "source": [
    "# Separar las características y la variable objetivo\n",
    "df = df.drop(columns=['balance', 'duration', 'campaign', 'pdays', 'previous'])# Seleccionamos solo las columnas transformadas (eliminando outliers)\n",
    "\n",
    "X = df.drop(columns='deposit')\n",
    "y = df['deposit']\n",
    "\n",
    "# Dividir el conjunto de datos en entrenamiento y prueba (70% entrenamiento, 30% prueba)\n",
    "X_train, X_test, y_train, y_test = train_test_split(X, y, test_size=0.3, random_state=42, stratify=y)\n",
    "\n",
    "# Se utiliza una proporción de 70-30 para asegurar un conjunto de entrenamiento robusto y un conjunto de prueba que\n",
    "# permita evaluar el rendimiento del modelo de manera efectiva. La división en estratos asegura que ambas partes\n",
    "# tengan una representación similar de las clases en la variable objetivo.\n"
   ]
  },
  {
   "cell_type": "markdown",
   "id": "b9033dee-9c33-461a-b2cb-642d25f78992",
   "metadata": {},
   "source": [
    "<h4>4. Codificación de variables categóricas</h4>"
   ]
  },
  {
   "cell_type": "code",
   "execution_count": 65,
   "id": "8c71c8c0-e99b-4b8f-845e-cd887b431c29",
   "metadata": {},
   "outputs": [],
   "source": [
    "# Codificación de variables categóricas utilizando one-hot encoding (cambiar los string por binarios)\n",
    "X_train = pd.get_dummies(X_train, drop_first=True)\n",
    "X_test = pd.get_dummies(X_test, drop_first=True)\n",
    "\n",
    "# Asegurar que ambas divisiones tengan las mismas columnas después de la codificación\n",
    "X_train, X_test = X_train.align(X_test, join='left', axis=1, fill_value=0)\n",
    "\n",
    "# One-hot encoding es adecuado aquí ya que transforma cada categoría en una nueva columna binaria,\n",
    "# permitiendo que el modelo interprete cada categoría sin asumir un orden entre ellas."
   ]
  },
  {
   "cell_type": "markdown",
   "id": "9d5edd34-1349-4b53-88ae-3f416a5e4b18",
   "metadata": {},
   "source": [
    "<h4>5. Estandarización de variables numéricas</h4>"
   ]
  },
  {
   "cell_type": "code",
   "execution_count": 68,
   "id": "97d4b805-8116-42be-9daf-c0eb31942dac",
   "metadata": {},
   "outputs": [],
   "source": [
    "# Seleccionar las variables numéricas\n",
    "numerical_cols = X_train.select_dtypes(include=['int64', 'float64']).columns\n",
    "\n",
    "# Estandarizar las variables numéricas\n",
    "scaler = StandardScaler()\n",
    "X_train[numerical_cols] = scaler.fit_transform(X_train[numerical_cols])\n",
    "X_test[numerical_cols] = scaler.transform(X_test[numerical_cols])\n",
    "\n",
    "# La estandarización se utiliza para garantizar que todas las variables contribuyan de manera equitativa al modelo,\n",
    "# especialmente para algoritmos que son sensibles a la escala de las variables, como KNN."
   ]
  },
  {
   "cell_type": "code",
   "execution_count": 98,
   "id": "3b63ce9c-252e-4ad1-91b4-d9b8734814c3",
   "metadata": {},
   "outputs": [
    {
     "name": "stdout",
     "output_type": "stream",
     "text": [
      "TEST SET: \n",
      "mean: \n",
      "\n",
      "age             2.150817e-16\n",
      "day             3.455859e-17\n",
      "balance_log     4.539907e-15\n",
      "duration_log    1.691552e-16\n",
      "campaign_log   -1.191362e-16\n",
      "pdays_log      -2.864725e-17\n",
      "previous_log    3.865105e-17\n",
      "dtype: float64\n",
      "\n",
      "std: \n",
      "\n",
      "age             1.000064\n",
      "day             1.000064\n",
      "balance_log     1.000064\n",
      "duration_log    1.000064\n",
      "campaign_log    1.000064\n",
      "pdays_log       1.000064\n",
      "previous_log    1.000064\n",
      "dtype: float64\n",
      "\n",
      "TRAIN SET: \n",
      "mean: \n",
      "\n",
      "age             0.035247\n",
      "day            -0.034285\n",
      "balance_log     0.034025\n",
      "duration_log    0.009666\n",
      "campaign_log    0.034084\n",
      "pdays_log      -0.000354\n",
      "previous_log    0.001808\n",
      "dtype: float64\n",
      "\n",
      "std:\n",
      "\n",
      "age             1.011948\n",
      "day             0.994732\n",
      "balance_log     1.011718\n",
      "duration_log    1.000581\n",
      "campaign_log    1.001671\n",
      "pdays_log       1.000638\n",
      "previous_log    1.008835\n",
      "dtype: float64\n"
     ]
    }
   ],
   "source": [
    "print(\"TEST SET: \")\n",
    "print(\"mean: \")\n",
    "print()\n",
    "print(X_train[numerical_cols].mean())\n",
    "print()\n",
    "print(\"std: \")\n",
    "print()\n",
    "print(X_train[numerical_cols].std())\n",
    "print()\n",
    "print(\"TRAIN SET: \")\n",
    "print(\"mean: \")\n",
    "print()\n",
    "print(X_test[numerical_cols].mean())\n",
    "print()\n",
    "print(\"std:\" )\n",
    "print()\n",
    "print(X_test[numerical_cols].std())\n"
   ]
  }
 ],
 "metadata": {
  "kernelspec": {
   "display_name": "Python 3 (ipykernel)",
   "language": "python",
   "name": "python3"
  },
  "language_info": {
   "codemirror_mode": {
    "name": "ipython",
    "version": 3
   },
   "file_extension": ".py",
   "mimetype": "text/x-python",
   "name": "python",
   "nbconvert_exporter": "python",
   "pygments_lexer": "ipython3",
   "version": "3.12.3"
  }
 },
 "nbformat": 4,
 "nbformat_minor": 5
}
